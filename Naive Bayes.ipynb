{
 "cells": [
  {
   "cell_type": "code",
   "execution_count": 1,
   "id": "c83b76e7",
   "metadata": {},
   "outputs": [],
   "source": [
    "import pandas as pd\n",
    "import numpy as np\n",
    "import matplotlib.pyplot as plt"
   ]
  },
  {
   "cell_type": "code",
   "execution_count": 2,
   "id": "14c25d0f",
   "metadata": {},
   "outputs": [],
   "source": [
    "def calc_prob_target_class(data,target):\n",
    "    labels = list(data[target].unique())\n",
    "    prob_target_all = list()\n",
    "    for label in labels:\n",
    "        prob_target_all.append(len(data[target] == label)/len(data)) # we are doing p(x) = no of events that x occurs/total no. of events\n",
    "    return prob_target_all"
   ]
  },
  {
   "cell_type": "code",
   "execution_count": 3,
   "id": "685bb8de",
   "metadata": {},
   "outputs": [],
   "source": [
    "# This function is used to calculate the probability of each of the features for\n",
    "# each of the classes in the dataset\n",
    "\n",
    "def calc_prob_x_given_y(data, target, feature_name, feature_value, label):\n",
    "    features = list(data.columns)\n",
    "    data = data[data[target] == label]\n",
    "    mn,std = data[feature_name].mean(),data[feature_name].std()\n",
    "    return (1 / (np.sqrt(2 * np.pi) * std)) *  np.exp(-((feature_value-mn)**2 / (2 * std**2 )))"
   ]
  },
  {
   "cell_type": "code",
   "execution_count": 4,
   "id": "c58d26f4",
   "metadata": {},
   "outputs": [],
   "source": [
    "def predict(data, X, y):\n",
    "    features = list(data.columns)[:-2] # get the name of the features \n",
    "    prior_prob = calc_prob_target_class(data, y)\n",
    "    \n",
    "    y_pred = list()\n",
    "    itr = 1\n",
    "    for x in X:\n",
    "        #print('predicting for iteration: ',itr)\n",
    "        itr += 1\n",
    "        labels = list(data[y].unique())\n",
    "        likelihood = [1]*len(labels) # initialize all the likelihood to 1\n",
    "        for i in range(len(labels)):\n",
    "            for j in range(len(features)):\n",
    "                likelihood[i] *= calc_prob_x_given_y(data, y, features[j], x[j], labels[i])\n",
    "        posterior_prob = [1]*len(labels)\n",
    "        for i in range(len(labels)):\n",
    "            posterior_prob[i] = likelihood[i]*prior_prob[i]\n",
    "        y_pred.append(np.argmax(posterior_prob))\n",
    "    return np.array(y_pred)"
   ]
  },
  {
   "cell_type": "code",
   "execution_count": 5,
   "id": "91e3853b",
   "metadata": {
    "scrolled": true
   },
   "outputs": [
    {
     "data": {
      "text/html": [
       "<div>\n",
       "<style scoped>\n",
       "    .dataframe tbody tr th:only-of-type {\n",
       "        vertical-align: middle;\n",
       "    }\n",
       "\n",
       "    .dataframe tbody tr th {\n",
       "        vertical-align: top;\n",
       "    }\n",
       "\n",
       "    .dataframe thead th {\n",
       "        text-align: right;\n",
       "    }\n",
       "</style>\n",
       "<table border=\"1\" class=\"dataframe\">\n",
       "  <thead>\n",
       "    <tr style=\"text-align: right;\">\n",
       "      <th></th>\n",
       "      <th>PC1</th>\n",
       "      <th>PC2</th>\n",
       "      <th>PC3</th>\n",
       "      <th>genre</th>\n",
       "      <th>track_name</th>\n",
       "    </tr>\n",
       "  </thead>\n",
       "  <tbody>\n",
       "    <tr>\n",
       "      <th>0</th>\n",
       "      <td>-0.990450</td>\n",
       "      <td>0.999392</td>\n",
       "      <td>-0.159711</td>\n",
       "      <td>15</td>\n",
       "      <td>C'est beau de faire un Show</td>\n",
       "    </tr>\n",
       "    <tr>\n",
       "      <th>1</th>\n",
       "      <td>-1.209613</td>\n",
       "      <td>0.273042</td>\n",
       "      <td>-0.684229</td>\n",
       "      <td>15</td>\n",
       "      <td>Perdu d'avance (par Gad Elmaleh)</td>\n",
       "    </tr>\n",
       "    <tr>\n",
       "      <th>2</th>\n",
       "      <td>2.112402</td>\n",
       "      <td>0.353162</td>\n",
       "      <td>-1.866821</td>\n",
       "      <td>15</td>\n",
       "      <td>Don't Let Me Be Lonely Tonight</td>\n",
       "    </tr>\n",
       "    <tr>\n",
       "      <th>3</th>\n",
       "      <td>1.954505</td>\n",
       "      <td>-0.186844</td>\n",
       "      <td>0.251315</td>\n",
       "      <td>15</td>\n",
       "      <td>Dis-moi Monsieur Gordon Cooper</td>\n",
       "    </tr>\n",
       "    <tr>\n",
       "      <th>4</th>\n",
       "      <td>2.935588</td>\n",
       "      <td>0.391576</td>\n",
       "      <td>-1.123134</td>\n",
       "      <td>15</td>\n",
       "      <td>Ouverture</td>\n",
       "    </tr>\n",
       "  </tbody>\n",
       "</table>\n",
       "</div>"
      ],
      "text/plain": [
       "        PC1       PC2       PC3  genre                        track_name\n",
       "0 -0.990450  0.999392 -0.159711     15       C'est beau de faire un Show\n",
       "1 -1.209613  0.273042 -0.684229     15  Perdu d'avance (par Gad Elmaleh)\n",
       "2  2.112402  0.353162 -1.866821     15    Don't Let Me Be Lonely Tonight\n",
       "3  1.954505 -0.186844  0.251315     15    Dis-moi Monsieur Gordon Cooper\n",
       "4  2.935588  0.391576 -1.123134     15                         Ouverture"
      ]
     },
     "execution_count": 5,
     "metadata": {},
     "output_type": "execute_result"
    }
   ],
   "source": [
    "from sklearn.model_selection import train_test_split\n",
    "\n",
    "df = pd.read_csv('Transformed.csv')\n",
    "df = df.drop(['Unnamed: 0'],axis=1)\n",
    "df.head()"
   ]
  },
  {
   "cell_type": "code",
   "execution_count": 6,
   "id": "2a485f60",
   "metadata": {},
   "outputs": [
    {
     "data": {
      "text/plain": [
       "(2312, 5)"
      ]
     },
     "execution_count": 6,
     "metadata": {},
     "output_type": "execute_result"
    }
   ],
   "source": [
    "separated = dict()\n",
    "vals = df.values\n",
    "for i in range(len(vals)):\n",
    "    vector = vals[i]\n",
    "    class_value = vector[-2]\n",
    "    if (class_value not in separated):\n",
    "        separated[class_value] = list()\n",
    "    separated[class_value].append(vector)\n",
    "\n",
    "lst = list()\n",
    "for key in separated.keys():\n",
    "    for ind,val in enumerate(separated[key]):\n",
    "        if ind == int(len(separated[key])*0.01):\n",
    "            break\n",
    "        else:\n",
    "            lst.append(separated[key][ind])\n",
    "\n",
    "data = pd.DataFrame(lst,columns=['PC1','PC2','PC3','genre','title'])\n",
    "data.shape"
   ]
  },
  {
   "cell_type": "code",
   "execution_count": null,
   "id": "d673c933",
   "metadata": {},
   "outputs": [],
   "source": [
    "arr = data.values\n",
    "X = arr[:,0:3]\n",
    "y = arr[:,3]\n",
    "train, test = train_test_split(df, test_size=0.20, random_state = 4)\n",
    "X_test = test.iloc[:,:-2].values\n",
    "y_test = test.iloc[:,-2].values\n",
    "y_pred = predict(train, X_test, 'genre')"
   ]
  },
  {
   "cell_type": "code",
   "execution_count": null,
   "id": "1a819875",
   "metadata": {},
   "outputs": [],
   "source": [
    "from sklearn.metrics import accuracy_score\n",
    "\n",
    "accuracy_score(y_test,y_pred)"
   ]
  },
  {
   "cell_type": "code",
   "execution_count": null,
   "id": "664d8f73",
   "metadata": {},
   "outputs": [],
   "source": []
  }
 ],
 "metadata": {
  "kernelspec": {
   "display_name": "Python 3",
   "language": "python",
   "name": "python3"
  },
  "language_info": {
   "codemirror_mode": {
    "name": "ipython",
    "version": 3
   },
   "file_extension": ".py",
   "mimetype": "text/x-python",
   "name": "python",
   "nbconvert_exporter": "python",
   "pygments_lexer": "ipython3",
   "version": "3.8.8"
  }
 },
 "nbformat": 4,
 "nbformat_minor": 5
}

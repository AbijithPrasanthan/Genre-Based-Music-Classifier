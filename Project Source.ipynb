{
  "nbformat": 4,
  "nbformat_minor": 0,
  "metadata": {
    "kernelspec": {
      "display_name": "Python 3",
      "language": "python",
      "name": "python3"
    },
    "language_info": {
      "codemirror_mode": {
        "name": "ipython",
        "version": 3
      },
      "file_extension": ".py",
      "mimetype": "text/x-python",
      "name": "python",
      "nbconvert_exporter": "python",
      "pygments_lexer": "ipython3",
      "version": "3.8.10"
    },
    "colab": {
      "name": "Phase2.ipynb",
      "provenance": []
    }
  },
  "cells": [
    {
      "cell_type": "markdown",
      "metadata": {
        "id": "u-7f8PyqlgH1"
      },
      "source": [
        "# Music Genre Based Playlist Generator - Phase2\n",
        "\n",
        "#### by Bharath Prathap Nair (AM.EN.U4CSE19113)\n",
        "\n"
      ]
    },
    {
      "cell_type": "code",
      "metadata": {
        "id": "nCPqi62WlgH6"
      },
      "source": [
        ""
      ],
      "execution_count": null,
      "outputs": []
    },
    {
      "cell_type": "markdown",
      "metadata": {
        "id": "39tdMsC6lgH7"
      },
      "source": [
        "##### Dataset Source : Kaggle [https://www.kaggle.com/cnic92/spotify-past-decades-songs-50s10s?select=2010.csv ]\n"
      ]
    },
    {
      "cell_type": "code",
      "metadata": {
        "id": "OAwYR5I2lgH8"
      },
      "source": [
        "import pandas as pd\n",
        "import matplotlib.pyplot as plt\n",
        "from sklearn.metrics import accuracy_score"
      ],
      "execution_count": null,
      "outputs": []
    },
    {
      "cell_type": "code",
      "metadata": {
        "colab": {
          "base_uri": "https://localhost:8080/"
        },
        "id": "4oL3re86mR1G",
        "outputId": "1455a20a-bd04-4d09-e889-c46b517c1782"
      },
      "source": [
        "from google.colab import drive\n",
        "drive.mount('/content/drive')"
      ],
      "execution_count": null,
      "outputs": [
        {
          "output_type": "stream",
          "name": "stdout",
          "text": [
            "Mounted at /content/drive\n"
          ]
        }
      ]
    },
    {
      "cell_type": "code",
      "metadata": {
        "colab": {
          "base_uri": "https://localhost:8080/"
        },
        "id": "qNYQBFwRlgH-",
        "outputId": "4b33c722-af33-4212-e76f-ca406772ac93"
      },
      "source": [
        "data = pd.read_csv('/content/drive/MyDrive/Colab Notebooks/Machine Learning/Project/Phase2/modifiedDataset.csv')\n",
        "print(data.head())"
      ],
      "execution_count": null,
      "outputs": [
        {
          "output_type": "stream",
          "name": "stdout",
          "text": [
            "   Unnamed: 0       PC1       PC2       PC3  top genre\n",
            "0           0  3.616142 -2.822903  2.304606         19\n",
            "1           1  4.398339 -3.324495  1.631486         14\n",
            "2           2 -0.313810 -2.883387  1.236102         13\n",
            "3           3 -0.048058 -1.703037 -0.188615          9\n",
            "4           4  1.842614  0.768541  1.373641         15\n"
          ]
        }
      ]
    },
    {
      "cell_type": "code",
      "metadata": {
        "colab": {
          "base_uri": "https://localhost:8080/"
        },
        "id": "s2LqgOZtlgH_",
        "outputId": "71a67024-c511-46c5-ac40-a3ff5301dd94"
      },
      "source": [
        "data.info()"
      ],
      "execution_count": null,
      "outputs": [
        {
          "output_type": "stream",
          "name": "stdout",
          "text": [
            "<class 'pandas.core.frame.DataFrame'>\n",
            "RangeIndex: 100 entries, 0 to 99\n",
            "Data columns (total 5 columns):\n",
            " #   Column      Non-Null Count  Dtype  \n",
            "---  ------      --------------  -----  \n",
            " 0   Unnamed: 0  100 non-null    int64  \n",
            " 1   PC1         100 non-null    float64\n",
            " 2   PC2         100 non-null    float64\n",
            " 3   PC3         100 non-null    float64\n",
            " 4   top genre   100 non-null    int64  \n",
            "dtypes: float64(3), int64(2)\n",
            "memory usage: 4.0 KB\n"
          ]
        }
      ]
    },
    {
      "cell_type": "code",
      "metadata": {
        "id": "lsnZtOUPlgIA"
      },
      "source": [
        "data=data.drop(['Unnamed: 0'],axis = 1)"
      ],
      "execution_count": null,
      "outputs": []
    },
    {
      "cell_type": "code",
      "metadata": {
        "colab": {
          "base_uri": "https://localhost:8080/"
        },
        "id": "zJhIHM1llgIA",
        "outputId": "a026abf4-ca96-4354-ae02-c84a1b9bce70"
      },
      "source": [
        "data.info()"
      ],
      "execution_count": null,
      "outputs": [
        {
          "output_type": "stream",
          "name": "stdout",
          "text": [
            "<class 'pandas.core.frame.DataFrame'>\n",
            "RangeIndex: 100 entries, 0 to 99\n",
            "Data columns (total 4 columns):\n",
            " #   Column     Non-Null Count  Dtype  \n",
            "---  ------     --------------  -----  \n",
            " 0   PC1        100 non-null    float64\n",
            " 1   PC2        100 non-null    float64\n",
            " 2   PC3        100 non-null    float64\n",
            " 3   top genre  100 non-null    int64  \n",
            "dtypes: float64(3), int64(1)\n",
            "memory usage: 3.2 KB\n"
          ]
        }
      ]
    },
    {
      "cell_type": "code",
      "metadata": {
        "colab": {
          "base_uri": "https://localhost:8080/"
        },
        "id": "OU-Z_YT9lgIB",
        "outputId": "5e9f1004-0c92-4e22-eb71-efb0fc512697"
      },
      "source": [
        "data.shape"
      ],
      "execution_count": null,
      "outputs": [
        {
          "output_type": "execute_result",
          "data": {
            "text/plain": [
              "(100, 4)"
            ]
          },
          "metadata": {},
          "execution_count": 9
        }
      ]
    },
    {
      "cell_type": "code",
      "metadata": {
        "id": "q0pYrRgZlgIB"
      },
      "source": [
        "from sklearn.model_selection import train_test_split  \n",
        "arr=data.values\n",
        "X=arr[:,0:3]\n",
        "Y=arr[:,3]\n",
        "X_train, X_test, y_train, y_test = train_test_split(X, Y, test_size=0.20, random_state=1)  "
      ],
      "execution_count": null,
      "outputs": []
    },
    {
      "cell_type": "code",
      "metadata": {
        "id": "fC1STwKZlgIC"
      },
      "source": [
        "accuracies=[]\n",
        "modelName=[]"
      ],
      "execution_count": null,
      "outputs": []
    },
    {
      "cell_type": "markdown",
      "metadata": {
        "id": "8mwoPq2ClgIC"
      },
      "source": [
        "## KNN"
      ]
    },
    {
      "cell_type": "code",
      "metadata": {
        "colab": {
          "base_uri": "https://localhost:8080/"
        },
        "id": "A9ynaFeVlgIC",
        "outputId": "4b1150cd-9dd3-4a18-896a-a0e729eb009a"
      },
      "source": [
        "from sklearn.neighbors import KNeighborsClassifier  \n",
        "\n",
        "classifier = KNeighborsClassifier(n_neighbors=4)  \n",
        "classifier.fit(X_train, y_train)\n",
        "y_pred = classifier.predict(X_test)\n",
        "\n",
        "\n",
        "\n",
        "knn_accuracy=accuracy_score(y_test,y_pred)\n",
        "print(\"Accuracy:\",knn_accuracy)\n",
        "\n",
        "accuracies.append(knn_accuracy)\n",
        "modelName.append(\"KNN\")\n"
      ],
      "execution_count": null,
      "outputs": [
        {
          "output_type": "stream",
          "name": "stdout",
          "text": [
            "Accuracy: 0.35\n"
          ]
        }
      ]
    },
    {
      "cell_type": "markdown",
      "metadata": {
        "id": "3IxvinEtlgID"
      },
      "source": [
        "## SVM"
      ]
    },
    {
      "cell_type": "code",
      "metadata": {
        "colab": {
          "base_uri": "https://localhost:8080/"
        },
        "id": "1VjNCdeflgID",
        "outputId": "7a2302b0-a83d-4957-fef6-5e6826d65717"
      },
      "source": [
        "from sklearn.svm import SVC\n",
        "svm_model_linear = SVC(kernel = 'linear', C = 1).fit(X_train, y_train)\n",
        "svm_predictions = svm_model_linear.predict(X_test)\n",
        " \n",
        "# model accuracy for X_test \n",
        "accuracy = svm_model_linear.score(X_test, y_test)\n",
        " \n",
        "svm_accuracy=accuracy_score(y_test,svm_predictions)\n",
        "print(\"Accuracy:\",svm_accuracy)\n",
        "\n",
        "accuracies.append(svm_accuracy)\n",
        "modelName.append(\"SVM\")"
      ],
      "execution_count": null,
      "outputs": [
        {
          "output_type": "stream",
          "name": "stdout",
          "text": [
            "Accuracy: 0.35\n"
          ]
        }
      ]
    },
    {
      "cell_type": "markdown",
      "metadata": {
        "id": "bUXbniwrlgIE"
      },
      "source": [
        "## Logistic Regression"
      ]
    },
    {
      "cell_type": "code",
      "metadata": {
        "colab": {
          "base_uri": "https://localhost:8080/"
        },
        "id": "ly23zGWslgIE",
        "outputId": "6b4c6201-914b-429b-dfa1-dce29aca4c1c"
      },
      "source": [
        "#Logistic Regression\n",
        "\n",
        "from sklearn.linear_model import LogisticRegression\n",
        "model = LogisticRegression(max_iter=1000,random_state=0, \n",
        "                           solver='lbfgs', multi_class='multinomial')\n",
        "model.fit(X_train, y_train)\n",
        "\n",
        "predicted = model.predict(X_test)\n",
        "logistic_accuracy=accuracy_score(y_test, predicted)\n",
        "print(\"Accuracy:\",logistic_accuracy)\n",
        "\n",
        "accuracies.append(logistic_accuracy)\n",
        "modelName.append(\"Logistic Regression\")"
      ],
      "execution_count": null,
      "outputs": [
        {
          "output_type": "stream",
          "name": "stdout",
          "text": [
            "Accuracy: 0.4\n"
          ]
        }
      ]
    },
    {
      "cell_type": "markdown",
      "metadata": {
        "id": "C3-HUkdblgIF"
      },
      "source": [
        "## Decision Tree"
      ]
    },
    {
      "cell_type": "code",
      "metadata": {
        "colab": {
          "base_uri": "https://localhost:8080/"
        },
        "id": "n1aZu_JzlgIF",
        "outputId": "ea10acdf-de93-4d2c-fd63-373858e577f8"
      },
      "source": [
        "from sklearn.tree import DecisionTreeClassifier\n",
        "\n",
        "tree = DecisionTreeClassifier(criterion = 'entropy', random_state = 10)\n",
        "tree.fit(X_train, y_train)\n",
        "pred = tree.predict(X_test)\n",
        "tree_accuracy=accuracy_score(y_test, pred)\n",
        "print(\"Accuracy:\",tree_accuracy)\n",
        "\n",
        "accuracies.append(tree_accuracy)\n",
        "modelName.append(\"Decision Tree\")"
      ],
      "execution_count": null,
      "outputs": [
        {
          "output_type": "stream",
          "name": "stdout",
          "text": [
            "Accuracy: 0.1\n"
          ]
        }
      ]
    },
    {
      "cell_type": "markdown",
      "metadata": {
        "id": "2s-Z0URdlgIG"
      },
      "source": [
        "## Naive bayes"
      ]
    },
    {
      "cell_type": "code",
      "metadata": {
        "colab": {
          "base_uri": "https://localhost:8080/"
        },
        "id": "e-YEzn-GlgIG",
        "outputId": "11158f65-00b2-4ad7-bb62-d40befaa820a"
      },
      "source": [
        "from sklearn.naive_bayes import GaussianNB\n",
        "gnb = GaussianNB()\n",
        "gnb.fit(X_train, y_train)\n",
        "gnb_predict =gnb.predict(X_test)\n",
        "gnb_accuracy=accuracy_score(y_test, gnb_predict)\n",
        "print(\"Accuracy:\",gnb_accuracy)\n",
        "\n",
        "accuracies.append(gnb_accuracy)\n",
        "modelName.append(\"Naive Bayes\")"
      ],
      "execution_count": null,
      "outputs": [
        {
          "output_type": "stream",
          "name": "stdout",
          "text": [
            "Accuracy: 0.3\n"
          ]
        }
      ]
    },
    {
      "cell_type": "code",
      "metadata": {
        "colab": {
          "base_uri": "https://localhost:8080/",
          "height": 350
        },
        "id": "kFVSeHvTlgIH",
        "outputId": "139778e3-9658-4751-bcfb-3b4d46ffc541"
      },
      "source": [
        "fig = plt.figure(figsize = (10, 5))\n",
        "plt.bar(modelName, accuracies)\n",
        "plt.xlabel('Model')\n",
        "plt.ylabel('Accuracy')\n",
        "plt.title('Accuracies of Different Models Before Validating the Data')\n",
        "plt.show()"
      ],
      "execution_count": null,
      "outputs": [
        {
          "output_type": "display_data",
          "data": {
            "image/png": "[encoded data removed]",
            "text/plain": [
              "<Figure size 720x360 with 1 Axes>"
            ]
          },
          "metadata": {
            "needs_background": "light"
          }
        }
      ]
    },
    {
      "cell_type": "markdown",
      "metadata": {
        "id": "StLiCOJtlgII"
      },
      "source": [
        "# Applying validation"
      ]
    },
    {
      "cell_type": "markdown",
      "metadata": {
        "id": "JG2tdishlgII"
      },
      "source": [
        "## KNN"
      ]
    },
    {
      "cell_type": "code",
      "metadata": {
        "id": "0IQ31mCUlgII"
      },
      "source": [
        "k_vals=[]\n",
        "mean_accuracies=[]\n",
        "exec_time=[]"
      ],
      "execution_count": null,
      "outputs": []
    },
    {
      "cell_type": "code",
      "metadata": {
        "colab": {
          "base_uri": "https://localhost:8080/"
        },
        "id": "mABTD_wulgIJ",
        "outputId": "f734864c-abb7-4614-c93c-20d482fe1e7e"
      },
      "source": [
        "from sklearn.model_selection import KFold\n",
        "import numpy as np\n",
        "import time\n",
        "\n",
        "kf = KFold(n_splits=5, random_state=None) \n",
        "\n",
        "accuracy =[]\n",
        "\n",
        "for train_index, test_index in kf.split(X):\n",
        "    X_train, X_test = X[train_index], X[test_index] \n",
        "    y_train, y_test = Y[train_index], Y[test_index]\n",
        "    \n",
        "    from sklearn.neighbors import KNeighborsClassifier  \n",
        "    \n",
        "    start = time.time()\n",
        "    k=10\n",
        "    classifier = KNeighborsClassifier(n_neighbors=k)  \n",
        "    classifier.fit(X_train, y_train)\n",
        "    y_pred = classifier.predict(X_test)\n",
        "    end = time.time()\n",
        "    \n",
        "    accuracy.append(accuracy_score(y_test, y_pred))\n",
        "    print(accuracy_score(y_test, y_pred))\n",
        "\n",
        "acc=np.array(accuracy)    \n",
        "print(\"\\nMean: \",np.mean(acc))\n",
        "    "
      ],
      "execution_count": null,
      "outputs": [
        {
          "output_type": "stream",
          "name": "stdout",
          "text": [
            "0.1\n",
            "0.25\n",
            "0.3\n",
            "0.6\n",
            "0.6\n",
            "\n",
            "Mean:  0.37\n"
          ]
        }
      ]
    },
    {
      "cell_type": "code",
      "metadata": {
        "id": "gSKPU8TNlgIK"
      },
      "source": [
        "k_vals.append(k)\n",
        "mean_accuracies.append(np.mean(acc))\n",
        "exec_time.append(end-start)"
      ],
      "execution_count": null,
      "outputs": []
    },
    {
      "cell_type": "code",
      "metadata": {
        "colab": {
          "base_uri": "https://localhost:8080/",
          "height": 334
        },
        "id": "OFztTTVIlgIK",
        "outputId": "6fdac3e4-e4de-4e1b-ab8d-1a204bfcb68c"
      },
      "source": [
        "fig = plt.figure(figsize = (10, 5))\n",
        "plt.bar(k_vals, mean_accuracies)\n",
        "plt.xlabel('K values')\n",
        "plt.ylabel('Accuracy')\n",
        "plt.show()"
      ],
      "execution_count": null,
      "outputs": [
        {
          "output_type": "display_data",
          "data": {
            "image/png": "[encoded data removed]",
            "text/plain": [
              "<Figure size 720x360 with 1 Axes>"
            ]
          },
          "metadata": {
            "needs_background": "light"
          }
        }
      ]
    },
    {
      "cell_type": "code",
      "metadata": {
        "colab": {
          "base_uri": "https://localhost:8080/",
          "height": 337
        },
        "id": "XTVoISn6lgIL",
        "outputId": "8b88f6e4-9070-4549-abaa-a4e3c40401a8"
      },
      "source": [
        "fig = plt.figure(figsize = (10, 5))\n",
        "plt.bar(k_vals, exec_time)\n",
        "plt.xlabel('K values')\n",
        "plt.ylabel('Execution time')\n",
        "plt.show()"
      ],
      "execution_count": null,
      "outputs": [
        {
          "output_type": "display_data",
          "data": {
            "image/png": "[encoded data removed]",
            "text/plain": [
              "<Figure size 720x360 with 1 Axes>"
            ]
          },
          "metadata": {
            "needs_background": "light"
          }
        }
      ]
    },
    {
      "cell_type": "markdown",
      "metadata": {
        "id": "Hn2IzDKslgIL"
      },
      "source": [
        "## SVM"
      ]
    },
    {
      "cell_type": "code",
      "metadata": {
        "colab": {
          "base_uri": "https://localhost:8080/"
        },
        "id": "sR_jTPJ1lgIL",
        "outputId": "2ea38e9e-6041-4b44-8829-023cec7871a0"
      },
      "source": [
        "from sklearn.model_selection import KFold\n",
        "import numpy as np\n",
        "kf = KFold(n_splits=5, random_state=None) \n",
        "# X is the feature set and y is the target\n",
        "\n",
        "accuracy =[]\n",
        "\n",
        "for train_index, test_index in kf.split(X):\n",
        "    X_train, X_test = X[train_index], X[test_index] \n",
        "    y_train, y_test = Y[train_index], Y[test_index]\n",
        "    \n",
        "    from sklearn.svm import SVC\n",
        "    svm_model_linear = SVC(kernel = 'linear', C = 1).fit(X_train, y_train)\n",
        "    svm_predictions = svm_model_linear.predict(X_test)\n",
        "    \n",
        "    svm_accuracy=accuracy_score(y_test,svm_predictions)\n",
        "    accuracy.append(svm_accuracy)\n",
        "    print(accuracy_score(y_test, svm_predictions))\n",
        "\n",
        "acc=np.array(accuracy)    \n",
        "print(\"\\nMean: \",np.mean(acc))\n",
        "    "
      ],
      "execution_count": null,
      "outputs": [
        {
          "output_type": "stream",
          "name": "stdout",
          "text": [
            "0.15\n",
            "0.25\n",
            "0.3\n",
            "0.65\n",
            "0.65\n",
            "\n",
            "Mean:  0.4\n"
          ]
        }
      ]
    },
    {
      "cell_type": "markdown",
      "metadata": {
        "id": "3TIrWDj9lgIM"
      },
      "source": [
        "## Logistic Regression"
      ]
    },
    {
      "cell_type": "code",
      "metadata": {
        "colab": {
          "base_uri": "https://localhost:8080/"
        },
        "id": "WAw9tFWblgIM",
        "outputId": "904ae642-db76-423e-cd0d-abdcc8175ecd"
      },
      "source": [
        "from sklearn.model_selection import KFold\n",
        "import numpy as np\n",
        "kf = KFold(n_splits=5, random_state=None) \n",
        "# X is the feature set and y is the target\n",
        "\n",
        "accuracy =[]\n",
        "\n",
        "for train_index, test_index in kf.split(X):\n",
        "    X_train, X_test = X[train_index], X[test_index] \n",
        "    y_train, y_test = Y[train_index], Y[test_index]\n",
        "    \n",
        "    from sklearn.linear_model import LogisticRegression\n",
        "    model = LogisticRegression(max_iter=1000,random_state=0,\n",
        "                               solver='lbfgs', multi_class='multinomial')\n",
        "    model.fit(X_train, y_train)\n",
        "\n",
        "    predicted = model.predict(X_test)\n",
        "    logistic_accuracy=accuracy_score(y_test, predicted)\n",
        "\n",
        "    accuracy.append(logistic_accuracy)\n",
        "    print(accuracy_score(y_test, predicted))\n",
        "\n",
        "acc=np.array(accuracy)    \n",
        "print(\"\\nMean: \",np.mean(acc))\n",
        "    "
      ],
      "execution_count": null,
      "outputs": [
        {
          "output_type": "stream",
          "name": "stdout",
          "text": [
            "0.15\n",
            "0.3\n",
            "0.35\n",
            "0.65\n",
            "0.65\n",
            "\n",
            "Mean:  0.42000000000000004\n"
          ]
        }
      ]
    },
    {
      "cell_type": "markdown",
      "metadata": {
        "id": "-_s2qPjjlgIN"
      },
      "source": [
        "## Decision Tree"
      ]
    },
    {
      "cell_type": "code",
      "metadata": {
        "colab": {
          "base_uri": "https://localhost:8080/"
        },
        "id": "m8PGgbldlgIN",
        "outputId": "afda23b0-01db-48b0-b768-45a6ca1c5c3a"
      },
      "source": [
        "from sklearn.model_selection import KFold\n",
        "import numpy as np\n",
        "kf = KFold(n_splits=5, random_state=None) \n",
        "# X is the feature set and y is the target\n",
        "\n",
        "accuracy =[]\n",
        "\n",
        "for train_index, test_index in kf.split(X):\n",
        "    X_train, X_test = X[train_index], X[test_index] \n",
        "    y_train, y_test = Y[train_index], Y[test_index]\n",
        "    \n",
        "    from sklearn.tree import DecisionTreeClassifier\n",
        "\n",
        "    tree = DecisionTreeClassifier(criterion = 'entropy', random_state = 10)\n",
        "    tree.fit(X_train, y_train)\n",
        "    pred = tree.predict(X_test)\n",
        "    tree_accuracy=accuracy_score(y_test, pred)\n",
        "\n",
        "    accuracy.append(tree_accuracy)\n",
        "    print(accuracy_score(y_test, pred))\n",
        "\n",
        "acc=np.array(accuracy)    \n",
        "print(\"\\nMean: \",np.mean(acc))\n",
        "    "
      ],
      "execution_count": null,
      "outputs": [
        {
          "output_type": "stream",
          "name": "stdout",
          "text": [
            "0.0\n",
            "0.2\n",
            "0.25\n",
            "0.2\n",
            "0.4\n",
            "\n",
            "Mean:  0.21000000000000002\n"
          ]
        }
      ]
    },
    {
      "cell_type": "markdown",
      "metadata": {
        "id": "HA_r_ylDlgIO"
      },
      "source": [
        "## Naive Bayes"
      ]
    },
    {
      "cell_type": "code",
      "metadata": {
        "colab": {
          "base_uri": "https://localhost:8080/"
        },
        "id": "sBzShKLqlgIO",
        "outputId": "9ac3b3c7-adee-44b6-8a57-23c103f1acac"
      },
      "source": [
        "from sklearn.model_selection import KFold\n",
        "import numpy as np\n",
        "kf = KFold(n_splits=5, random_state=None) \n",
        "# X is the feature set and y is the target\n",
        "\n",
        "accuracy =[]\n",
        "\n",
        "for train_index, test_index in kf.split(X):\n",
        "    X_train, X_test = X[train_index], X[test_index] \n",
        "    y_train, y_test = Y[train_index], Y[test_index]\n",
        "    \n",
        "    from sklearn.naive_bayes import GaussianNB\n",
        "    gnb = GaussianNB()\n",
        "    gnb.fit(X_train, y_train)\n",
        "    gnb_predict =gnb.predict(X_test)\n",
        "    gnb_accuracy=accuracy_score(y_test, gnb_predict)\n",
        "\n",
        "    accuracy.append(gnb_accuracy)\n",
        "    print(accuracy_score(y_test, gnb_predict))\n",
        "\n",
        "acc=np.array(accuracy)    \n",
        "print(\"\\nMean: \",np.mean(acc))\n",
        "    "
      ],
      "execution_count": null,
      "outputs": [
        {
          "output_type": "stream",
          "name": "stdout",
          "text": [
            "0.15\n",
            "0.3\n",
            "0.2\n",
            "0.6\n",
            "0.65\n",
            "\n",
            "Mean:  0.38\n"
          ]
        }
      ]
    },
    {
      "cell_type": "markdown",
      "metadata": {
        "id": "bGJ5EDX0lgIO"
      },
      "source": [
        "## Naive Bayes -Implementation"
      ]
    },
    {
      "cell_type": "code",
      "metadata": {
        "id": "nMfuw5ZPlgIP"
      },
      "source": [
        "import math\n",
        "import numpy as np\n",
        "from sklearn.model_selection import train_test_split \n",
        "\n",
        "arr=data.values\n",
        "X=arr[:,0:3]\n",
        "Y=arr[:,3]\n",
        "X_train, X_test, y_train, y_test = train_test_split(X, Y, test_size=0.20, random_state=1)  \n",
        "\n",
        "class NaiveBayes():\n",
        "    \n",
        "  def fit(self, X, y):\n",
        "    self.X = X\n",
        "    self.y = y\n",
        "    self.classes = np.unique(y)\n",
        "    self.parameters = []\n",
        "    for i, c in enumerate(self.classes):\n",
        "      X_where_c = X[np.where(y == c)]\n",
        "      self.parameters.append([])\n",
        "      for col in X_where_c.T:\n",
        "        parameters = {\"mean\": col.mean(), \"var\": col.var()}\n",
        "        self.parameters[i].append(parameters)\n",
        "              \n",
        "              \n",
        "  def likelihood(self, mean, var, x):\n",
        "    m = 0.01\n",
        "    gaussian = (1.0 / math.sqrt(2.0 * math.pi * var + m))*(math.exp(-(math.pow(x - mean, 2) / (2 * var + m))))\n",
        "    return gaussian\n",
        "  \n",
        "  def prior(self, target):\n",
        "    return np.mean(self.y == target)\n",
        "  \n",
        "  def predict(self, X):\n",
        "    y_pred = []\n",
        "    for j in X:\n",
        "      posteriors = []\n",
        "      for i, c in enumerate(self.classes):\n",
        "        posterior = self.prior(c)\n",
        "        for feature_value, params in zip(j, self.parameters[i]):\n",
        "          likelihood = self.likelihood(params[\"mean\"], params[\"var\"], feature_value)\n",
        "          posterior *= likelihood\n",
        "        posteriors.append(posterior)\n",
        "      y_pred.append(self.classes[np.argmax(posteriors)])\n",
        "    return y_pred"
      ],
      "execution_count": null,
      "outputs": []
    },
    {
      "cell_type": "code",
      "metadata": {
        "colab": {
          "base_uri": "https://localhost:8080/"
        },
        "id": "m_8X-i4WlgIP",
        "outputId": "4d779fe0-870f-4655-8681-51663f1d8cae"
      },
      "source": [
        "model = NaiveBayes()\n",
        "model.fit(X_train,y_train)\n",
        "pred = model.predict(X_test)\n",
        "\n",
        "print(\"Accuracy: \",accuracy_score(y_test,pred))"
      ],
      "execution_count": null,
      "outputs": [
        {
          "output_type": "stream",
          "name": "stdout",
          "text": [
            "Accuracy:  0.3\n"
          ]
        }
      ]
    },
    {
      "cell_type": "code",
      "metadata": {
        "colab": {
          "base_uri": "https://localhost:8080/",
          "height": 350
        },
        "id": "08zIaDwzlgIQ",
        "outputId": "360dee4e-b36d-4a72-a705-419f92d70c04"
      },
      "source": [
        "model_name2=[\"KNN\",\"SVM\",\"Logistic Regression\",\"Decision Tree\",\"Naive Bayes\"]\n",
        "acc_val=[0.32,0.40,0.42,0.21,0.38]\n",
        "fig = plt.figure(figsize = (10, 5))\n",
        "plt.bar(model_name2, acc_val)\n",
        "plt.xlabel('Model')\n",
        "plt.ylabel('Accuracy')\n",
        "plt.title('Accuracies of different Models after validating the Data')\n",
        "plt.show()\n"
      ],
      "execution_count": null,
      "outputs": [
        {
          "output_type": "display_data",
          "data": {
            "image/png": "[encoded data removed]",
            "text/plain": [
              "<Figure size 720x360 with 1 Axes>"
            ]
          },
          "metadata": {
            "needs_background": "light"
          }
        }
      ]
    }
  ]
}